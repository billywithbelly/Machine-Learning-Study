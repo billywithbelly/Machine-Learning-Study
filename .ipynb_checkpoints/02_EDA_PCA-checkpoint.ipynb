{
 "cells": [
  {
   "cell_type": "markdown",
   "metadata": {},
   "source": [
    "# <center>Exploring and Visualizing Data</center>\n",
    "\n",
    "<center>Shan-Hung Wu & DataLab<br/>Fall 2016</center>"
   ]
  },
  {
   "cell_type": "markdown",
   "metadata": {},
   "source": [
    "The first step of Machine Learning is to understand your data, so you can identify a right target to learn and choose a proper learning technique among many candidates to apply. For example, some learning models assume that the data points are normally distributed. It is wise to verify this assumption before applying the models in your learning task. In this lab, we are going to guide you through the process of **Exploratory Data Analysis (EDA)** and discuss how you can leverage the Principle Component Analysis (PCA) to visualize and understand high-dimensional data."
   ]
  },
  {
   "cell_type": "markdown",
   "metadata": {},
   "source": [
    "##  Exploratory Data Analysis\n",
    "\n",
    "Exploratory Data Analysis (EDA) is an important and recommended first step of Machine Learning (prior to the training of a machine learning model that are more commonly seen in research papers). EDA performs the **exploration** and **exploitation** steps iteratively. In the exploration step, you \"explore\" the data, usually by visualizing them in different ways, to discover some characteristics of data. Then, in the exploitation step, you use the identified characteristics to figure out the next things to explore. You then repeat the above two steps until you are satisfied with what you have learned from the data.\n",
    "\n",
    "Data visualization plays an important role in EDA. Next, we use the [Wine](https://archive.ics.uci.edu/ml/datasets/Wine) dataset from the UCI machine learning repository as an example dataset and show some common and useful plots.\n",
    "\n",
    "## Visualizing the Important Characteristics of a Dataset\n",
    "\n",
    "Let's download the [Wine](https://archive.ics.uci.edu/ml/datasets/Wine) dataset using [Pandas](http://pandas.pydata.org/) first:"
   ]
  },
  {
   "cell_type": "code",
   "execution_count": 1,
   "metadata": {},
   "outputs": [
    {
     "data": {
      "text/html": [
       "<div>\n",
       "<style>\n",
       "    .dataframe thead tr:only-child th {\n",
       "        text-align: right;\n",
       "    }\n",
       "\n",
       "    .dataframe thead th {\n",
       "        text-align: left;\n",
       "    }\n",
       "\n",
       "    .dataframe tbody tr th {\n",
       "        vertical-align: top;\n",
       "    }\n",
       "</style>\n",
       "<table border=\"1\" class=\"dataframe\">\n",
       "  <thead>\n",
       "    <tr style=\"text-align: right;\">\n",
       "      <th></th>\n",
       "      <th>Class label</th>\n",
       "      <th>Alcohol</th>\n",
       "      <th>Malic acid</th>\n",
       "      <th>Ash</th>\n",
       "      <th>Alcalinity of ash</th>\n",
       "      <th>Magnesium</th>\n",
       "      <th>Total phenols</th>\n",
       "      <th>Flavanoids</th>\n",
       "      <th>Nonflavanoid phenols</th>\n",
       "      <th>Proanthocyanins</th>\n",
       "      <th>Color intensity</th>\n",
       "      <th>Hue</th>\n",
       "      <th>OD280/OD315 of diluted wines</th>\n",
       "      <th>Proline</th>\n",
       "    </tr>\n",
       "  </thead>\n",
       "  <tbody>\n",
       "    <tr>\n",
       "      <th>0</th>\n",
       "      <td>1</td>\n",
       "      <td>14.23</td>\n",
       "      <td>1.71</td>\n",
       "      <td>2.43</td>\n",
       "      <td>15.6</td>\n",
       "      <td>127</td>\n",
       "      <td>2.80</td>\n",
       "      <td>3.06</td>\n",
       "      <td>0.28</td>\n",
       "      <td>2.29</td>\n",
       "      <td>5.64</td>\n",
       "      <td>1.04</td>\n",
       "      <td>3.92</td>\n",
       "      <td>1065</td>\n",
       "    </tr>\n",
       "    <tr>\n",
       "      <th>1</th>\n",
       "      <td>1</td>\n",
       "      <td>13.20</td>\n",
       "      <td>1.78</td>\n",
       "      <td>2.14</td>\n",
       "      <td>11.2</td>\n",
       "      <td>100</td>\n",
       "      <td>2.65</td>\n",
       "      <td>2.76</td>\n",
       "      <td>0.26</td>\n",
       "      <td>1.28</td>\n",
       "      <td>4.38</td>\n",
       "      <td>1.05</td>\n",
       "      <td>3.40</td>\n",
       "      <td>1050</td>\n",
       "    </tr>\n",
       "    <tr>\n",
       "      <th>2</th>\n",
       "      <td>1</td>\n",
       "      <td>13.16</td>\n",
       "      <td>2.36</td>\n",
       "      <td>2.67</td>\n",
       "      <td>18.6</td>\n",
       "      <td>101</td>\n",
       "      <td>2.80</td>\n",
       "      <td>3.24</td>\n",
       "      <td>0.30</td>\n",
       "      <td>2.81</td>\n",
       "      <td>5.68</td>\n",
       "      <td>1.03</td>\n",
       "      <td>3.17</td>\n",
       "      <td>1185</td>\n",
       "    </tr>\n",
       "    <tr>\n",
       "      <th>3</th>\n",
       "      <td>1</td>\n",
       "      <td>14.37</td>\n",
       "      <td>1.95</td>\n",
       "      <td>2.50</td>\n",
       "      <td>16.8</td>\n",
       "      <td>113</td>\n",
       "      <td>3.85</td>\n",
       "      <td>3.49</td>\n",
       "      <td>0.24</td>\n",
       "      <td>2.18</td>\n",
       "      <td>7.80</td>\n",
       "      <td>0.86</td>\n",
       "      <td>3.45</td>\n",
       "      <td>1480</td>\n",
       "    </tr>\n",
       "    <tr>\n",
       "      <th>4</th>\n",
       "      <td>1</td>\n",
       "      <td>13.24</td>\n",
       "      <td>2.59</td>\n",
       "      <td>2.87</td>\n",
       "      <td>21.0</td>\n",
       "      <td>118</td>\n",
       "      <td>2.80</td>\n",
       "      <td>2.69</td>\n",
       "      <td>0.39</td>\n",
       "      <td>1.82</td>\n",
       "      <td>4.32</td>\n",
       "      <td>1.04</td>\n",
       "      <td>2.93</td>\n",
       "      <td>735</td>\n",
       "    </tr>\n",
       "  </tbody>\n",
       "</table>\n",
       "</div>"
      ],
      "text/plain": [
       "   Class label  Alcohol  Malic acid   Ash  Alcalinity of ash  Magnesium  \\\n",
       "0            1    14.23        1.71  2.43               15.6        127   \n",
       "1            1    13.20        1.78  2.14               11.2        100   \n",
       "2            1    13.16        2.36  2.67               18.6        101   \n",
       "3            1    14.37        1.95  2.50               16.8        113   \n",
       "4            1    13.24        2.59  2.87               21.0        118   \n",
       "\n",
       "   Total phenols  Flavanoids  Nonflavanoid phenols  Proanthocyanins  \\\n",
       "0           2.80        3.06                  0.28             2.29   \n",
       "1           2.65        2.76                  0.26             1.28   \n",
       "2           2.80        3.24                  0.30             2.81   \n",
       "3           3.85        3.49                  0.24             2.18   \n",
       "4           2.80        2.69                  0.39             1.82   \n",
       "\n",
       "   Color intensity   Hue  OD280/OD315 of diluted wines  Proline  \n",
       "0             5.64  1.04                          3.92     1065  \n",
       "1             4.38  1.05                          3.40     1050  \n",
       "2             5.68  1.03                          3.17     1185  \n",
       "3             7.80  0.86                          3.45     1480  \n",
       "4             4.32  1.04                          2.93      735  "
      ]
     },
     "execution_count": 1,
     "metadata": {},
     "output_type": "execute_result"
    }
   ],
   "source": [
    "'''\n",
    "machine learning basic tools :\n",
    "\n",
    "matplotlib.pyplot: 用來繪製影像\n",
    "sklearn.datasets: 用來繪入內建之手寫數字資料庫\n",
    "sklearn.svm: SVM 支持向量機之演算法物件\n",
    "sklearn.metrics: 用來評估辨識準確度以及報表的顯示\n",
    "'''\n",
    "\n",
    "\n",
    "import pandas as pd\n",
    "\n",
    "#read data\n",
    "#the header : Row number(s) to use as the column names, and the start of the data. Default be 0, which means \"NO\"\n",
    "#name would be passed\n",
    "df = pd.read_csv('https://archive.ics.uci.edu/ml/machine-learning-databases/wine/wine.data', header=None)\n",
    "#And by \"name\" means an array-like storage, default None\n",
    "#List of column names to use. If file contains no header row, then you should explicitly pass header=None\n",
    "#p.s. csv is a kind of texted data file, using commas to separate data and figures\n",
    "\n",
    "##set columns\n",
    "df.columns = ['Class label', 'Alcohol', 'Malic acid', 'Ash', \n",
    "'Alcalinity of ash', 'Magnesium', 'Total phenols', \n",
    "'Flavanoids', 'Nonflavanoid phenols', 'Proanthocyanins', \n",
    "'Color intensity', 'Hue', 'OD280/OD315 of diluted wines', 'Proline']\n",
    "\n",
    "#drop : Return new object with labels in requested axis removed.\n",
    "#drop(labels[, axis, level, inplace, errors])\n",
    "X = df.drop('Class label', 1)\n",
    "\n",
    "y = df['Class label']\n",
    "\n",
    "#head(int n) returns first n rows. head() would return all \n",
    "df.head()"
   ]
  },
  {
   "cell_type": "markdown",
   "metadata": {},
   "source": [
    "As we can see, showing data row-by-row with their column names does not help us get the \"big picture\" and characteristics of data. \n",
    "\n",
    "#### Pairwise Join Distributions\n",
    "\n",
    "We can instead see the join distribution of any pair of columns/attributes/variables/features by using the `pairplot` function offered by [Seaborn](https://stanford.edu/~mwaskom/software/seaborn/), which is based on [Matplotlib](http://matplotlib.org/):"
   ]
  },
  {
   "cell_type": "code",
   "execution_count": 3,
   "metadata": {
    "scrolled": true
   },
   "outputs": [
    {
     "ename": "NameError",
     "evalue": "name 'pairplot' is not defined",
     "output_type": "error",
     "traceback": [
      "\u001b[0;31m---------------------------------------------------------------------------\u001b[0m",
      "\u001b[0;31mNameError\u001b[0m                                 Traceback (most recent call last)",
      "\u001b[0;32m<ipython-input-3-ff5e5ff06baa>\u001b[0m in \u001b[0;36m<module>\u001b[0;34m()\u001b[0m\n\u001b[1;32m      9\u001b[0m \u001b[0;31m#sns.reset_orig()\u001b[0m\u001b[0;34m\u001b[0m\u001b[0;34m\u001b[0m\u001b[0m\n\u001b[1;32m     10\u001b[0m \u001b[0;34m\u001b[0m\u001b[0m\n\u001b[0;32m---> 11\u001b[0;31m pairplot (data, hue=None, hue_order=None, palette=None, \n\u001b[0m\u001b[1;32m     12\u001b[0m     \u001b[0mvars\u001b[0m\u001b[0;34m=\u001b[0m\u001b[0;32mNone\u001b[0m\u001b[0;34m,\u001b[0m \u001b[0mx_vars\u001b[0m\u001b[0;34m=\u001b[0m\u001b[0;32mNone\u001b[0m\u001b[0;34m,\u001b[0m \u001b[0my_vars\u001b[0m\u001b[0;34m=\u001b[0m\u001b[0;32mNone\u001b[0m\u001b[0;34m,\u001b[0m \u001b[0mkind\u001b[0m\u001b[0;34m=\u001b[0m\u001b[0;34m'scatter'\u001b[0m\u001b[0;34m,\u001b[0m \u001b[0mdiag_kind\u001b[0m\u001b[0;34m=\u001b[0m\u001b[0;34m'hist'\u001b[0m\u001b[0;34m,\u001b[0m\u001b[0;34m\u001b[0m\u001b[0m\n\u001b[1;32m     13\u001b[0m     markers=None, size=2.5, aspect=1, dropna=True, plot_kws=None, diag_kws=None, grid_kws=None)\n",
      "\u001b[0;31mNameError\u001b[0m: name 'pairplot' is not defined"
     ]
    }
   ],
   "source": [
    "# inline plotting instead of popping out\n",
    "%matplotlib inline\n",
    "\n",
    "import matplotlib.pyplot as plt\n",
    "import seaborn as sns\n",
    "\n",
    "#define show style\n",
    "sns.set(style='whitegrid', context='notebook')\n",
    "#sns.reset_orig()\n",
    "\n",
    "#pairplot (data, hue=None, hue_order=None, palette=None, \n",
    "#    vars=None, x_vars=None, y_vars=None, kind='scatter', diag_kind='hist', \n",
    "#    markers=None, size=2.5, aspect=1, dropna=True, plot_kws=None, diag_kws=None, grid_kws=None)\n",
    "#create a grid of Axes such that each variable in data will by shared in the y-axis across a single row \n",
    "#and in the x-axis across a single column. The diagonal Axes are treated differently, \n",
    "#drawing a plot to show the univariate distribution of the data for the variable in that column.\n",
    "sns.pairplot(df, hue=\"Class label\", size=2.5)\n",
    "#plt.tight_layout()\n",
    "plt.savefig('./output/fig-wine-scatter.png', dpi=300)\n",
    "plt.show()"
   ]
  },
  {
   "cell_type": "markdown",
   "metadata": {},
   "source": [
    "From the above figures, we can easily see that there is a linear relationship between the \"Total phenols\" and \"Flavanoids\" variables. Furthermore, the class label cannot be easily predicted by a single variable. You may have noticed that the figures along the diagonal look different. They are histograms of values of individual variables. We can see that the \"Ash\" and \"Alcalinity of ash\" variables are roughly normally distributed.\n",
    "\n",
    "NOTE: importing the Seaborn library modifies the default aesthetics of Matplotlib for the current Python session. If you do not want to use Seaborn's style settings, you can reset the Matplotlib settings by calling:\n",
    "```\n",
    ">>> sns.reset_orig()\n",
    "```\n",
    "\n",
    "#### Correlation Matrix\n",
    "\n",
    "Showing the pairwise join distributions may still be overwhelming when we have a lot of variables in the dataset. Sometimes, we can just plot the correlation matrix to quantify the linear relationship between variables. The **correlation coefficient** between two random variables $\\mathrm{a}$ and $\\mathrm{b}$ are defined as: \n",
    "\n",
    "$$\\frac{\\mathrm{Cov}(\\mathrm{a},\\mathrm{b})}{\\sqrt{\\mathrm{Var}(\\mathrm{a})\\mathrm{Var}(\\mathrm{b})}}.$$ \n",
    "\n",
    "Basically, it is the \"normalized\" variance that captures the **linear** relationship of the two random variables, and the values are bounded to the range $[-1,1]$. The correlation matrix $\\boldsymbol{R}\\in\\mathbb{R}^{D\\times D}$ of a random vector $\\boldsymbol{\\mathrm{x}}$ is a square matrix whose each element $R_{i,j}$ denotes the correlation between the attributes $\\mathrm{x}_i$ and $\\mathrm{x}_j$. If we regard data points as the i.i.d. samples of $\\boldsymbol{\\mathrm{x}}$, then we can have an estimate $\\hat{\\boldsymbol{R}}$ whose each element \n",
    "\n",
    "$$\\hat{R}_{i,j}=\\frac{\\Sigma_{s=1}^{N}(x_{i}^{(s)}-\\hat{\\mu}_{\\mathrm{x}_{i}})(x_{j}^{(s)}-\\hat{\\mu}_{\\mathrm{x}_{j}})}{\\sqrt{\\Sigma_{s=1}^{N}(x_{i}^{(s)}-\\hat{\\mu}_{\\mathrm{x}_{i}})^{2}}\\sqrt{\\Sigma_{s=1}^{N}(x_{j}^{(s)}-\\hat{\\mu}_{\\mathrm{x}_{j}})^{2}}}=\\frac{\\hat{\\sigma}_{\\mathrm{x}_{i},\\mathrm{x}_{j}}}{\\hat{\\sigma}_{\\mathrm{x}_{i}}\\hat{\\sigma}_{\\mathrm{x}_{j}}}$$\n",
    "\n",
    "is an estimate of the correlation (usually called the **Pearson's r**) between attribute $\\mathrm{x}_i$ and $\\mathrm{x}_j$. Note that if we **z-normalize** each data point such that \n",
    "\n",
    "$$z_{i}^{(s)}=\\frac{x_{i}^{(s)}-\\hat{\\mu}_{\\mathrm{x}_{i}}}{\\hat{\\sigma}_{\\mathrm{x}_{i}}}$$\n",
    "\n",
    "for all $i$. Then we simply have $\\hat{\\boldsymbol{R}}=\\frac{1}{N}\\boldsymbol{Z}^\\top \\boldsymbol{Z}$, where $\\boldsymbol{Z}$ is the design matrix of the normalized data points. We can plot  $\\hat{\\boldsymbol{R}}$ as follows: "
   ]
  },
  {
   "cell_type": "code",
   "execution_count": 6,
   "metadata": {
    "scrolled": true
   },
   "outputs": [
    {
     "data": {
      "image/png": "[encoded data removed]",
      "text/plain": [
       "<matplotlib.figure.Figure at 0x123a9e8d0>"
      ]
     },
     "metadata": {},
     "output_type": "display_data"
    }
   ],
   "source": [
    "##Notes :\n",
    "##pearson product-moment correlation coefficient can measure the relation between two attributes\n",
    "##coefficients be bounded between -1 and 1\n",
    "##P.S. x, y be features\n",
    "\n",
    "import numpy as np\n",
    "from sklearn.preprocessing import StandardScaler\n",
    "\n",
    "# Z-normalize data\n",
    "sc = StandardScaler()\n",
    "Z = sc.fit_transform(X)\n",
    "##StandardScalar() standardize features by removing the mean and scaling to unit variance\n",
    "\n",
    "# Estimate the correlation matrix\n",
    "P = np.dot(Z.T, Z) / df.shape[0]\n",
    "##print (P)\n",
    "\n",
    "sns.set(font_scale=0.5)\n",
    "hm = sns.heatmap(P, \n",
    "            cbar=True,\n",
    "            square=True,\n",
    "            yticklabels=X.columns,\n",
    "            xticklabels=X.columns)\n",
    "\n",
    "plt.tight_layout()\n",
    "#plt.savefig('./output/fig-wine-corr.png', dpi=300)\n",
    "#plt.show()\n",
    "\n",
    "sns.reset_orig()"
   ]
  },
  {
   "cell_type": "markdown",
   "metadata": {},
   "source": [
    "The correlation matrix gives a more concise view of the relationship between variables. Some models, such the linear regression, assume that the explanatory variables are linearly correlated to the target variable. A heatmap of correlations can help us select variables supporting this assumption. For example, if we want to predict the \"Hue\" variable using the linear regression, we may pick the \"Malic acid\" and \"Flavanoids\" as the explanatory variables.\n",
    "\n",
    "NOTE: we could have simply used the NumPy function \n",
    "```\n",
    ">>> P = np.corrcoef(df.values.T)\n",
    "```\n",
    "to get the estimate $\\hat{\\boldsymbol{P}}$ of the correlation matrix. We calculate $\\hat{\\boldsymbol{P}}$ by ourselves using the normalized design matrix $\\boldsymbol{Z}$ because we will reuse $\\boldsymbol{Z}$ later."
   ]
  },
  {
   "cell_type": "markdown",
   "metadata": {},
   "source": [
    "## PCA for Visualization\n",
    "\n",
    "PCA reduces the dimension of data points, and has been widely used across different machine learning tasks. One application of PCA is to help the visualization of high-dimensional data, as discussed next. Before we start, let's summarize PCA in a few simple steps:\n",
    "\n",
    "\n",
    "1. Standardize the $D$-dimensional dataset $\\boldsymbol{X}$, e.g., via the $z$-normalization, and get $\\boldsymbol{Z}$;\n",
    "2. Estimate the covariance matrix $\\hat{\\boldsymbol{P}}$;\n",
    "3. Decompose $\\hat{\\boldsymbol{P}}$ into its eigenvectors and eigenvalues;\n",
    "4. Select $K$ eigenvectors that correspond to the $K$ largest eigenvalues, where $K$ is the dimensionality of the new feature subspace ($k < d$);\n",
    "5. Construct a projection matrix $\\boldsymbol{W}$ from the top-$K$ eigenvectors;\n",
    "6. Transform the $D$-dimensional input dataset $\\boldsymbol{X}$ using the projection matrix $\\boldsymbol{W}$.\n",
    "\n",
    "#### Eigendecomposition\n",
    "\n",
    "Since we already have $\\boldsymbol{Z}$ and $\\hat{\\boldsymbol{P}}$ from the above. We can begin from the step 3:"
   ]
  },
  {
   "cell_type": "code",
   "execution_count": 8,
   "metadata": {},
   "outputs": [
    {
     "name": "stdout",
     "output_type": "stream",
     "text": [
      "\n",
      "Eigenvalues: \n",
      "[ 0.10337794  0.16877023  0.22578864  0.25090248  0.28887994  0.34849736\n",
      "  0.55102831  0.64165703  0.85322818  0.91897392  1.44607197  2.49697373\n",
      "  4.70585025]\n"
     ]
    }
   ],
   "source": [
    "##Notes :\n",
    "##a covariance matrix is a matrix whose element in the i, j position \n",
    "##is the covariance between the i th and j th elements of a random vector\n",
    "\n",
    "eigen_vals, eigen_vecs = np.linalg.eigh(P)\n",
    "\n",
    "print('\\nEigenvalues: \\n%s' % eigen_vals)"
   ]
  },
  {
   "cell_type": "markdown",
   "metadata": {},
   "source": [
    "NOTE: there is an `np.linalg.eig()` function in NumPy that also eigendecomposes matrices. The difference is that `np.linalg.eigh()` is optimized for symmetric matrices whose eigenvalues are always real numbers. The numerically less stable `np.linalg.eig()` can decompose non-symmetric square matrices and returns complex eigenvalues. \n",
    "\n",
    "#### Eigenvector Selection\n",
    "\n",
    "In step 4, we need to decide the value of $K$. We can plot the **variance explained ratio** of each eigenvalue:\n",
    "\n",
    "$$\\frac{\\vert\\lambda_{j}\\vert}{\\Sigma_{j=1}^{D}\\vert\\lambda_{j}\\vert}$$\n",
    "\n",
    "in the descending order to help us decide how many eigenvectors to keep."
   ]
  },
  {
   "cell_type": "code",
   "execution_count": 10,
   "metadata": {},
   "outputs": [
    {
     "data": {
      "image/png": "[encoded data removed]",
      "text/plain": [
       "<matplotlib.figure.Figure at 0x11ac99c88>"
      ]
     },
     "metadata": {},
     "output_type": "display_data"
    }
   ],
   "source": [
    "import matplotlib.pyplot as plt\n",
    "\n",
    "tot = sum(np.abs(eigen_vals))\n",
    "var_exp = [(i / tot) for i in sorted(np.abs(eigen_vals), reverse=True)]\n",
    "cum_var_exp = np.cumsum(var_exp)\n",
    "\n",
    "plt.bar(range(1, eigen_vals.size + 1), var_exp, alpha=0.5, align='center',\n",
    "        label='Individual')\n",
    "plt.step(range(1, eigen_vals.size + 1), cum_var_exp, where='mid',\n",
    "         label='Cumulative')\n",
    "plt.ylabel('Explained variance ratio')\n",
    "plt.xlabel('Principal components')\n",
    "plt.legend(loc='best')\n",
    "plt.tight_layout()\n",
    "plt.savefig('./output/fig-pca-var-exp.png', dpi=300)\n",
    "plt.show()"
   ]
  },
  {
   "cell_type": "markdown",
   "metadata": {},
   "source": [
    "The resulting plot indicates that the first principal component alone accounts for 40 percent of the variance. Also, we can see that the first two principal components combined explain almost 60 percent of the variance in the data. Next, we collect the two eigenvectors that correspond to the two largest values to capture about 60 percent of the variance in this dataset. Note that we only chose two eigenvectors for the purpose of illustration, since we are going to plot the data via a two-dimensional scatter plot later in this subsection. In practice, the number of principal components can be determined by other reasons, such as the trade-off between computational efficiency and performance.\n",
    "\n",
    "#### Feature Transformation\n",
    "\n",
    "Let's now proceed with the last three steps to project the standardized Wine dataset onto the new principal component axes. We start by sorting the eigenpairs by decreasing order of the eigenvalues:"
   ]
  },
  {
   "cell_type": "code",
   "execution_count": 15,
   "metadata": {},
   "outputs": [
    {
     "name": "stdout",
     "output_type": "stream",
     "text": [
      "13\n"
     ]
    }
   ],
   "source": [
    "print (len(eigen_vals))\n",
    "# Make a list of (eigenvalue, eigenvector) tuples\n",
    "eigen_pairs = [(np.abs(eigen_vals[i]), eigen_vecs[:,i]) for i in range(len(eigen_vals))]\n",
    "\n",
    "# Sort the (eigenvalue, eigenvector) tuples from high to low\n",
    "eigen_pairs.sort(reverse=True)"
   ]
  },
  {
   "cell_type": "markdown",
   "metadata": {},
   "source": [
    "Next, we pick the first two eigenvectors and form the project matrix $\\boldsymbol{W}$:"
   ]
  },
  {
   "cell_type": "code",
   "execution_count": 19,
   "metadata": {},
   "outputs": [
    {
     "name": "stdout",
     "output_type": "stream",
     "text": [
      "Peojection matrix W:\n",
      " [[-0.1443294   0.48365155]\n",
      " [ 0.24518758  0.22493093]\n",
      " [ 0.00205106  0.31606881]\n",
      " [ 0.23932041 -0.0105905 ]\n",
      " [-0.14199204  0.299634  ]\n",
      " [-0.39466085  0.06503951]\n",
      " [-0.4229343  -0.00335981]\n",
      " [ 0.2985331   0.02877949]\n",
      " [-0.31342949  0.03930172]\n",
      " [ 0.0886167   0.52999567]\n",
      " [-0.29671456 -0.27923515]\n",
      " [-0.37616741 -0.16449619]\n",
      " [-0.28675223  0.36490283]]\n"
     ]
    }
   ],
   "source": [
    "W = np.hstack((eigen_pairs[0][1][:, np.newaxis],\n",
    "               eigen_pairs[1][1][:, np.newaxis]))\n",
    "print('Peojection matrix W:\\n', W)"
   ]
  },
  {
   "cell_type": "markdown",
   "metadata": {},
   "source": [
    "Finally, we can obtain the compressed dataset by:\n",
    "\n",
    "$$\\boldsymbol{Z}^{\\text{PCA}}=\\boldsymbol{Z}\\boldsymbol{W}$$\n",
    "    \n",
    "and visualize it using:"
   ]
  },
  {
   "cell_type": "code",
   "execution_count": 42,
   "metadata": {},
   "outputs": [
    {
     "data": {
      "image/png": "[encoded data removed]",
      "text/plain": [
       "<matplotlib.figure.Figure at 0x14a263080>"
      ]
     },
     "metadata": {},
     "output_type": "display_data"
    }
   ],
   "source": [
    "Z_pca = Z.dot(W)\n",
    "\n",
    "colors = ['r', 'b', 'g']\n",
    "markers = ['s', 'x', 'o']\n",
    "for l, c, m in zip(np.unique(y.values), colors, markers):\n",
    "    plt.scatter(Z_pca[y.values==l, 0], \n",
    "                Z_pca[y.values==l, 1], \n",
    "                c=c, label=l, marker=m)\n",
    "\n",
    "plt.title('Z_pca')\n",
    "plt.xlabel('PC 1')\n",
    "plt.ylabel('PC 2')\n",
    "plt.legend(loc='lower left')\n",
    "plt.tight_layout()\n",
    "plt.savefig('./output/fig-pca-z.png', dpi=300)\n",
    "plt.show()"
   ]
  },
  {
   "cell_type": "markdown",
   "metadata": {},
   "source": [
    "As we can see, the data is more spread along the x-axis corresponding to the first principal component than the y-axis (second principal component), which is consistent with the explained variance ratio plot that we created in the previous subsection. PCA may save us from examining a lot of pairwise distributions (as shown in the previous section) when the original data dimension $D$ is high. For example, if we see that the data points with different labels can be separated in the space of PCs, then we can simply choose a linear classifier to do the classification.\n",
    "\n",
    "Finally, let's save the compressed dataset for future use."
   ]
  },
  {
   "cell_type": "code",
   "execution_count": 43,
   "metadata": {
    "collapsed": true
   },
   "outputs": [],
   "source": [
    "np.save('./output/Z_pca.npy', Z_pca)"
   ]
  }
 ],
 "metadata": {
  "anaconda-cloud": {},
  "kernelspec": {
   "display_name": "Python 3",
   "language": "python",
   "name": "python3"
  },
  "language_info": {
   "codemirror_mode": {
    "name": "ipython",
    "version": 3
   },
   "file_extension": ".py",
   "mimetype": "text/x-python",
   "name": "python",
   "nbconvert_exporter": "python",
   "pygments_lexer": "ipython3",
   "version": "3.4.3"
  }
 },
 "nbformat": 4,
 "nbformat_minor": 1
}
