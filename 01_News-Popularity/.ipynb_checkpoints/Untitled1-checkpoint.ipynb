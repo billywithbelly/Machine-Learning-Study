{
 "cells": [
  {
   "cell_type": "code",
   "execution_count": 11,
   "metadata": {
    "collapsed": false
   },
   "outputs": [
    {
     "name": "stdout",
     "output_type": "stream",
     "text": [
      "[    0     1     2 ..., 27640 27641 27642]\n",
      "27643\n",
      "   Id  Popularity                                          body_text  weekday\n",
      "0   0          -1  good riddance motorola results drag on google ...        3\n",
      "1   1           1  good riddance motorola results drag on google ...        3\n",
      "2   2           1  good riddance motorola results drag on google ...        3\n",
      "3   3          -1  good riddance motorola results drag on google ...        3\n",
      "4   4          -1  good riddance motorola results drag on google ...        3\n"
     ]
    }
   ],
   "source": [
    "import pandas as pd\n",
    "import numpy as np\n",
    "import re\n",
    "from bs4 import BeautifulSoup\n",
    "from dateutil import parser\n",
    "from nltk.corpus import stopwords\n",
    "from IPython.display import display\n",
    "\n",
    "df = pd.read_csv('datasets/train.csv')\n",
    "#print(df.head(5))\n",
    "\n",
    "X_content = df['Page content'].values\n",
    "#print(X_content)\n",
    "X_id = df['Id'].values\n",
    "print(X_id)\n",
    "\n",
    "def get_all(html):\n",
    "\n",
    "    # get body text without stemming\n",
    "    soup = BeautifulSoup(html, 'html.parser')\n",
    "    body = soup.body\n",
    "    body_text = body.get_text()\n",
    "    body_text = re.sub('[\\W]+', ' ', body_text.lower()).strip()\n",
    "    \n",
    "    # get weekday and day time\n",
    "    head = soup.head\n",
    "    time = head.find('time').get_text()\n",
    "    parsed = parser.parse(time)\n",
    "    wd = parsed.weekday()\n",
    "\n",
    "    return body_text, wd\n",
    "\n",
    "columns=['body_text', 'weekday']\n",
    "col_list = []\n",
    "\n",
    "for _ in range(len(columns)):\n",
    "    col_list.append([])\n",
    "\n",
    "print(X_content.shape[0])\n",
    "\n",
    "\n",
    "for idx in range(0, 20):\n",
    "        #print(X_id[idx])\n",
    "    all = get_all(X_content[idx])\n",
    "\n",
    "for col_idx in range(len(columns)):\n",
    "        col_list[col_idx].append(all[col_idx])\n",
    "\n",
    "#print (data)\n",
    "for col_name, col in zip(columns, col_list):\n",
    "     df[col_name] = pd.Series(col, index=df.index)\n",
    "\n",
    "df.drop('Page content', axis=1, inplace=True)\n",
    "print(df.head(5))\n",
    "df.to_csv(\"train_converted.csv\")\n",
    "\n",
    "#print (df[0])"
   ]
  }
 ],
 "metadata": {
  "anaconda-cloud": {},
  "kernelspec": {
   "display_name": "Python [conda env:py35]",
   "language": "python",
   "name": "conda-env-py35-py"
  },
  "language_info": {
   "codemirror_mode": {
    "name": "ipython",
    "version": 3
   },
   "file_extension": ".py",
   "mimetype": "text/x-python",
   "name": "python",
   "nbconvert_exporter": "python",
   "pygments_lexer": "ipython3",
   "version": "3.5.2"
  }
 },
 "nbformat": 4,
 "nbformat_minor": 1
}
